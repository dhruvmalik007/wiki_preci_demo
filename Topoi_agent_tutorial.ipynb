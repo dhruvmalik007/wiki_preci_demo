{
  "nbformat": 4,
  "nbformat_minor": 0,
  "metadata": {
    "colab": {
      "provenance": [],
      "authorship_tag": "ABX9TyMblM7GYIlVhPGO3AdzzA7a",
      "include_colab_link": true
    },
    "kernelspec": {
      "name": "python3",
      "display_name": "Python 3"
    },
    "language_info": {
      "name": "python"
    }
  },
  "cells": [
    {
      "cell_type": "markdown",
      "metadata": {
        "id": "view-in-github",
        "colab_type": "text"
      },
      "source": [
        "<a href=\"https://colab.research.google.com/github/dhruvmalik007/wiki_preci_demo/blob/main/Topoi_agent_tutorial.ipynb\" target=\"_parent\"><img src=\"https://colab.research.google.com/assets/colab-badge.svg\" alt=\"Open In Colab\"/></a>"
      ]
    },
    {
      "cell_type": "markdown",
      "source": [
        "\n",
        "## Topoi Discussion agent tutorial\n",
        "\n",
        "\n",
        "This is the tutorial for the researchers to try to come up with a discussion quorum agent that\n",
        "\n"
      ],
      "metadata": {
        "id": "sCAxCsN0Cu0B"
      }
    },
    {
      "cell_type": "code",
      "execution_count": 1,
      "metadata": {
        "colab": {
          "base_uri": "https://localhost:8080/"
        },
        "id": "j2c36KRchCkM",
        "outputId": "fbb99989-4601-427a-e123-39791d09246d"
      },
      "outputs": [
        {
          "output_type": "stream",
          "name": "stdout",
          "text": [
            "Collecting langchain_community\n",
            "  Downloading langchain_community-0.2.5-py3-none-any.whl (2.2 MB)\n",
            "\u001b[2K     \u001b[90m━━━━━━━━━━━━━━━━━━━━━━━━━━━━━━━━━━━━━━━━\u001b[0m \u001b[32m2.2/2.2 MB\u001b[0m \u001b[31m18.1 MB/s\u001b[0m eta \u001b[36m0:00:00\u001b[0m\n",
            "\u001b[?25hCollecting langchain_openai\n",
            "  Downloading langchain_openai-0.1.9-py3-none-any.whl (40 kB)\n",
            "\u001b[2K     \u001b[90m━━━━━━━━━━━━━━━━━━━━━━━━━━━━━━━━━━━━━━━━\u001b[0m \u001b[32m40.3/40.3 kB\u001b[0m \u001b[31m3.2 MB/s\u001b[0m eta \u001b[36m0:00:00\u001b[0m\n",
            "\u001b[?25hCollecting langchain\n",
            "  Downloading langchain-0.2.5-py3-none-any.whl (974 kB)\n",
            "\u001b[2K     \u001b[90m━━━━━━━━━━━━━━━━━━━━━━━━━━━━━━━━━━━━━━━━\u001b[0m \u001b[32m974.6/974.6 kB\u001b[0m \u001b[31m25.7 MB/s\u001b[0m eta \u001b[36m0:00:00\u001b[0m\n",
            "\u001b[?25hCollecting langgraph\n",
            "  Downloading langgraph-0.1.1-py3-none-any.whl (87 kB)\n",
            "\u001b[2K     \u001b[90m━━━━━━━━━━━━━━━━━━━━━━━━━━━━━━━━━━━━━━━━\u001b[0m \u001b[32m87.3/87.3 kB\u001b[0m \u001b[31m8.0 MB/s\u001b[0m eta \u001b[36m0:00:00\u001b[0m\n",
            "\u001b[?25hCollecting langchain_experimental\n",
            "  Downloading langchain_experimental-0.0.61-py3-none-any.whl (202 kB)\n",
            "\u001b[2K     \u001b[90m━━━━━━━━━━━━━━━━━━━━━━━━━━━━━━━━━━━━━━━━\u001b[0m \u001b[32m202.5/202.5 kB\u001b[0m \u001b[31m14.5 MB/s\u001b[0m eta \u001b[36m0:00:00\u001b[0m\n",
            "\u001b[?25hCollecting wikipedia\n",
            "  Downloading wikipedia-1.4.0.tar.gz (27 kB)\n",
            "  Preparing metadata (setup.py) ... \u001b[?25l\u001b[?25hdone\n",
            "Collecting langchain-huggingface\n",
            "  Downloading langchain_huggingface-0.0.3-py3-none-any.whl (17 kB)\n",
            "Requirement already satisfied: PyYAML>=5.3 in /usr/local/lib/python3.10/dist-packages (from langchain_community) (6.0.1)\n",
            "Requirement already satisfied: SQLAlchemy<3,>=1.4 in /usr/local/lib/python3.10/dist-packages (from langchain_community) (2.0.30)\n",
            "Requirement already satisfied: aiohttp<4.0.0,>=3.8.3 in /usr/local/lib/python3.10/dist-packages (from langchain_community) (3.9.5)\n",
            "Collecting dataclasses-json<0.7,>=0.5.7 (from langchain_community)\n",
            "  Downloading dataclasses_json-0.6.7-py3-none-any.whl (28 kB)\n",
            "Collecting langchain-core<0.3.0,>=0.2.7 (from langchain_community)\n",
            "  Downloading langchain_core-0.2.9-py3-none-any.whl (321 kB)\n",
            "\u001b[2K     \u001b[90m━━━━━━━━━━━━━━━━━━━━━━━━━━━━━━━━━━━━━━━━\u001b[0m \u001b[32m321.8/321.8 kB\u001b[0m \u001b[31m17.3 MB/s\u001b[0m eta \u001b[36m0:00:00\u001b[0m\n",
            "\u001b[?25hCollecting langsmith<0.2.0,>=0.1.0 (from langchain_community)\n",
            "  Downloading langsmith-0.1.81-py3-none-any.whl (127 kB)\n",
            "\u001b[2K     \u001b[90m━━━━━━━━━━━━━━━━━━━━━━━━━━━━━━━━━━━━━━━━\u001b[0m \u001b[32m127.1/127.1 kB\u001b[0m \u001b[31m5.1 MB/s\u001b[0m eta \u001b[36m0:00:00\u001b[0m\n",
            "\u001b[?25hRequirement already satisfied: numpy<2,>=1 in /usr/local/lib/python3.10/dist-packages (from langchain_community) (1.25.2)\n",
            "Requirement already satisfied: requests<3,>=2 in /usr/local/lib/python3.10/dist-packages (from langchain_community) (2.31.0)\n",
            "Requirement already satisfied: tenacity<9.0.0,>=8.1.0 in /usr/local/lib/python3.10/dist-packages (from langchain_community) (8.4.1)\n",
            "Collecting openai<2.0.0,>=1.26.0 (from langchain_openai)\n",
            "  Downloading openai-1.35.3-py3-none-any.whl (327 kB)\n",
            "\u001b[2K     \u001b[90m━━━━━━━━━━━━━━━━━━━━━━━━━━━━━━━━━━━━━━━━\u001b[0m \u001b[32m327.4/327.4 kB\u001b[0m \u001b[31m14.7 MB/s\u001b[0m eta \u001b[36m0:00:00\u001b[0m\n",
            "\u001b[?25hCollecting tiktoken<1,>=0.7 (from langchain_openai)\n",
            "  Downloading tiktoken-0.7.0-cp310-cp310-manylinux_2_17_x86_64.manylinux2014_x86_64.whl (1.1 MB)\n",
            "\u001b[2K     \u001b[90m━━━━━━━━━━━━━━━━━━━━━━━━━━━━━━━━━━━━━━━━\u001b[0m \u001b[32m1.1/1.1 MB\u001b[0m \u001b[31m25.9 MB/s\u001b[0m eta \u001b[36m0:00:00\u001b[0m\n",
            "\u001b[?25hRequirement already satisfied: async-timeout<5.0.0,>=4.0.0 in /usr/local/lib/python3.10/dist-packages (from langchain) (4.0.3)\n",
            "Collecting langchain-text-splitters<0.3.0,>=0.2.0 (from langchain)\n",
            "  Downloading langchain_text_splitters-0.2.1-py3-none-any.whl (23 kB)\n",
            "Requirement already satisfied: pydantic<3,>=1 in /usr/local/lib/python3.10/dist-packages (from langchain) (2.7.4)\n",
            "Requirement already satisfied: beautifulsoup4 in /usr/local/lib/python3.10/dist-packages (from wikipedia) (4.12.3)\n",
            "Requirement already satisfied: huggingface-hub>=0.23.0 in /usr/local/lib/python3.10/dist-packages (from langchain-huggingface) (0.23.4)\n",
            "Collecting sentence-transformers>=2.6.0 (from langchain-huggingface)\n",
            "  Downloading sentence_transformers-3.0.1-py3-none-any.whl (227 kB)\n",
            "\u001b[2K     \u001b[90m━━━━━━━━━━━━━━━━━━━━━━━━━━━━━━━━━━━━━━━━\u001b[0m \u001b[32m227.1/227.1 kB\u001b[0m \u001b[31m15.4 MB/s\u001b[0m eta \u001b[36m0:00:00\u001b[0m\n",
            "\u001b[?25hRequirement already satisfied: tokenizers>=0.19.1 in /usr/local/lib/python3.10/dist-packages (from langchain-huggingface) (0.19.1)\n",
            "Requirement already satisfied: transformers>=4.39.0 in /usr/local/lib/python3.10/dist-packages (from langchain-huggingface) (4.41.2)\n",
            "Requirement already satisfied: aiosignal>=1.1.2 in /usr/local/lib/python3.10/dist-packages (from aiohttp<4.0.0,>=3.8.3->langchain_community) (1.3.1)\n",
            "Requirement already satisfied: attrs>=17.3.0 in /usr/local/lib/python3.10/dist-packages (from aiohttp<4.0.0,>=3.8.3->langchain_community) (23.2.0)\n",
            "Requirement already satisfied: frozenlist>=1.1.1 in /usr/local/lib/python3.10/dist-packages (from aiohttp<4.0.0,>=3.8.3->langchain_community) (1.4.1)\n",
            "Requirement already satisfied: multidict<7.0,>=4.5 in /usr/local/lib/python3.10/dist-packages (from aiohttp<4.0.0,>=3.8.3->langchain_community) (6.0.5)\n",
            "Requirement already satisfied: yarl<2.0,>=1.0 in /usr/local/lib/python3.10/dist-packages (from aiohttp<4.0.0,>=3.8.3->langchain_community) (1.9.4)\n",
            "Collecting marshmallow<4.0.0,>=3.18.0 (from dataclasses-json<0.7,>=0.5.7->langchain_community)\n",
            "  Downloading marshmallow-3.21.3-py3-none-any.whl (49 kB)\n",
            "\u001b[2K     \u001b[90m━━━━━━━━━━━━━━━━━━━━━━━━━━━━━━━━━━━━━━━━\u001b[0m \u001b[32m49.2/49.2 kB\u001b[0m \u001b[31m3.3 MB/s\u001b[0m eta \u001b[36m0:00:00\u001b[0m\n",
            "\u001b[?25hCollecting typing-inspect<1,>=0.4.0 (from dataclasses-json<0.7,>=0.5.7->langchain_community)\n",
            "  Downloading typing_inspect-0.9.0-py3-none-any.whl (8.8 kB)\n",
            "Requirement already satisfied: filelock in /usr/local/lib/python3.10/dist-packages (from huggingface-hub>=0.23.0->langchain-huggingface) (3.15.1)\n",
            "Requirement already satisfied: fsspec>=2023.5.0 in /usr/local/lib/python3.10/dist-packages (from huggingface-hub>=0.23.0->langchain-huggingface) (2023.6.0)\n",
            "Requirement already satisfied: packaging>=20.9 in /usr/local/lib/python3.10/dist-packages (from huggingface-hub>=0.23.0->langchain-huggingface) (24.1)\n",
            "Requirement already satisfied: tqdm>=4.42.1 in /usr/local/lib/python3.10/dist-packages (from huggingface-hub>=0.23.0->langchain-huggingface) (4.66.4)\n",
            "Requirement already satisfied: typing-extensions>=3.7.4.3 in /usr/local/lib/python3.10/dist-packages (from huggingface-hub>=0.23.0->langchain-huggingface) (4.12.2)\n",
            "Collecting jsonpatch<2.0,>=1.33 (from langchain-core<0.3.0,>=0.2.7->langchain_community)\n",
            "  Downloading jsonpatch-1.33-py2.py3-none-any.whl (12 kB)\n",
            "Collecting orjson<4.0.0,>=3.9.14 (from langsmith<0.2.0,>=0.1.0->langchain_community)\n",
            "  Downloading orjson-3.10.5-cp310-cp310-manylinux_2_17_x86_64.manylinux2014_x86_64.whl (144 kB)\n",
            "\u001b[2K     \u001b[90m━━━━━━━━━━━━━━━━━━━━━━━━━━━━━━━━━━━━━━━━\u001b[0m \u001b[32m145.0/145.0 kB\u001b[0m \u001b[31m3.4 MB/s\u001b[0m eta \u001b[36m0:00:00\u001b[0m\n",
            "\u001b[?25hRequirement already satisfied: anyio<5,>=3.5.0 in /usr/local/lib/python3.10/dist-packages (from openai<2.0.0,>=1.26.0->langchain_openai) (3.7.1)\n",
            "Requirement already satisfied: distro<2,>=1.7.0 in /usr/lib/python3/dist-packages (from openai<2.0.0,>=1.26.0->langchain_openai) (1.7.0)\n",
            "Collecting httpx<1,>=0.23.0 (from openai<2.0.0,>=1.26.0->langchain_openai)\n",
            "  Downloading httpx-0.27.0-py3-none-any.whl (75 kB)\n",
            "\u001b[2K     \u001b[90m━━━━━━━━━━━━━━━━━━━━━━━━━━━━━━━━━━━━━━━━\u001b[0m \u001b[32m75.6/75.6 kB\u001b[0m \u001b[31m6.4 MB/s\u001b[0m eta \u001b[36m0:00:00\u001b[0m\n",
            "\u001b[?25hRequirement already satisfied: sniffio in /usr/local/lib/python3.10/dist-packages (from openai<2.0.0,>=1.26.0->langchain_openai) (1.3.1)\n",
            "Requirement already satisfied: annotated-types>=0.4.0 in /usr/local/lib/python3.10/dist-packages (from pydantic<3,>=1->langchain) (0.7.0)\n",
            "Requirement already satisfied: pydantic-core==2.18.4 in /usr/local/lib/python3.10/dist-packages (from pydantic<3,>=1->langchain) (2.18.4)\n",
            "Requirement already satisfied: charset-normalizer<4,>=2 in /usr/local/lib/python3.10/dist-packages (from requests<3,>=2->langchain_community) (3.3.2)\n",
            "Requirement already satisfied: idna<4,>=2.5 in /usr/local/lib/python3.10/dist-packages (from requests<3,>=2->langchain_community) (3.7)\n",
            "Requirement already satisfied: urllib3<3,>=1.21.1 in /usr/local/lib/python3.10/dist-packages (from requests<3,>=2->langchain_community) (2.0.7)\n",
            "Requirement already satisfied: certifi>=2017.4.17 in /usr/local/lib/python3.10/dist-packages (from requests<3,>=2->langchain_community) (2024.6.2)\n",
            "Requirement already satisfied: torch>=1.11.0 in /usr/local/lib/python3.10/dist-packages (from sentence-transformers>=2.6.0->langchain-huggingface) (2.3.0+cu121)\n",
            "Requirement already satisfied: scikit-learn in /usr/local/lib/python3.10/dist-packages (from sentence-transformers>=2.6.0->langchain-huggingface) (1.2.2)\n",
            "Requirement already satisfied: scipy in /usr/local/lib/python3.10/dist-packages (from sentence-transformers>=2.6.0->langchain-huggingface) (1.11.4)\n",
            "Requirement already satisfied: Pillow in /usr/local/lib/python3.10/dist-packages (from sentence-transformers>=2.6.0->langchain-huggingface) (9.4.0)\n",
            "Requirement already satisfied: greenlet!=0.4.17 in /usr/local/lib/python3.10/dist-packages (from SQLAlchemy<3,>=1.4->langchain_community) (3.0.3)\n",
            "Requirement already satisfied: regex>=2022.1.18 in /usr/local/lib/python3.10/dist-packages (from tiktoken<1,>=0.7->langchain_openai) (2024.5.15)\n",
            "Requirement already satisfied: safetensors>=0.4.1 in /usr/local/lib/python3.10/dist-packages (from transformers>=4.39.0->langchain-huggingface) (0.4.3)\n",
            "Requirement already satisfied: soupsieve>1.2 in /usr/local/lib/python3.10/dist-packages (from beautifulsoup4->wikipedia) (2.5)\n",
            "Requirement already satisfied: exceptiongroup in /usr/local/lib/python3.10/dist-packages (from anyio<5,>=3.5.0->openai<2.0.0,>=1.26.0->langchain_openai) (1.2.1)\n",
            "Collecting httpcore==1.* (from httpx<1,>=0.23.0->openai<2.0.0,>=1.26.0->langchain_openai)\n",
            "  Downloading httpcore-1.0.5-py3-none-any.whl (77 kB)\n",
            "\u001b[2K     \u001b[90m━━━━━━━━━━━━━━━━━━━━━━━━━━━━━━━━━━━━━━━━\u001b[0m \u001b[32m77.9/77.9 kB\u001b[0m \u001b[31m9.8 MB/s\u001b[0m eta \u001b[36m0:00:00\u001b[0m\n",
            "\u001b[?25hCollecting h11<0.15,>=0.13 (from httpcore==1.*->httpx<1,>=0.23.0->openai<2.0.0,>=1.26.0->langchain_openai)\n",
            "  Downloading h11-0.14.0-py3-none-any.whl (58 kB)\n",
            "\u001b[2K     \u001b[90m━━━━━━━━━━━━━━━━━━━━━━━━━━━━━━━━━━━━━━━━\u001b[0m \u001b[32m58.3/58.3 kB\u001b[0m \u001b[31m7.6 MB/s\u001b[0m eta \u001b[36m0:00:00\u001b[0m\n",
            "\u001b[?25hCollecting jsonpointer>=1.9 (from jsonpatch<2.0,>=1.33->langchain-core<0.3.0,>=0.2.7->langchain_community)\n",
            "  Downloading jsonpointer-3.0.0-py2.py3-none-any.whl (7.6 kB)\n",
            "Requirement already satisfied: sympy in /usr/local/lib/python3.10/dist-packages (from torch>=1.11.0->sentence-transformers>=2.6.0->langchain-huggingface) (1.12.1)\n",
            "Requirement already satisfied: networkx in /usr/local/lib/python3.10/dist-packages (from torch>=1.11.0->sentence-transformers>=2.6.0->langchain-huggingface) (3.3)\n",
            "Requirement already satisfied: jinja2 in /usr/local/lib/python3.10/dist-packages (from torch>=1.11.0->sentence-transformers>=2.6.0->langchain-huggingface) (3.1.4)\n",
            "Collecting nvidia-cuda-nvrtc-cu12==12.1.105 (from torch>=1.11.0->sentence-transformers>=2.6.0->langchain-huggingface)\n",
            "  Using cached nvidia_cuda_nvrtc_cu12-12.1.105-py3-none-manylinux1_x86_64.whl (23.7 MB)\n",
            "Collecting nvidia-cuda-runtime-cu12==12.1.105 (from torch>=1.11.0->sentence-transformers>=2.6.0->langchain-huggingface)\n",
            "  Using cached nvidia_cuda_runtime_cu12-12.1.105-py3-none-manylinux1_x86_64.whl (823 kB)\n",
            "Collecting nvidia-cuda-cupti-cu12==12.1.105 (from torch>=1.11.0->sentence-transformers>=2.6.0->langchain-huggingface)\n",
            "  Using cached nvidia_cuda_cupti_cu12-12.1.105-py3-none-manylinux1_x86_64.whl (14.1 MB)\n",
            "Collecting nvidia-cudnn-cu12==8.9.2.26 (from torch>=1.11.0->sentence-transformers>=2.6.0->langchain-huggingface)\n",
            "  Using cached nvidia_cudnn_cu12-8.9.2.26-py3-none-manylinux1_x86_64.whl (731.7 MB)\n",
            "Collecting nvidia-cublas-cu12==12.1.3.1 (from torch>=1.11.0->sentence-transformers>=2.6.0->langchain-huggingface)\n",
            "  Using cached nvidia_cublas_cu12-12.1.3.1-py3-none-manylinux1_x86_64.whl (410.6 MB)\n",
            "Collecting nvidia-cufft-cu12==11.0.2.54 (from torch>=1.11.0->sentence-transformers>=2.6.0->langchain-huggingface)\n",
            "  Using cached nvidia_cufft_cu12-11.0.2.54-py3-none-manylinux1_x86_64.whl (121.6 MB)\n",
            "Collecting nvidia-curand-cu12==10.3.2.106 (from torch>=1.11.0->sentence-transformers>=2.6.0->langchain-huggingface)\n",
            "  Using cached nvidia_curand_cu12-10.3.2.106-py3-none-manylinux1_x86_64.whl (56.5 MB)\n",
            "Collecting nvidia-cusolver-cu12==11.4.5.107 (from torch>=1.11.0->sentence-transformers>=2.6.0->langchain-huggingface)\n",
            "  Using cached nvidia_cusolver_cu12-11.4.5.107-py3-none-manylinux1_x86_64.whl (124.2 MB)\n",
            "Collecting nvidia-cusparse-cu12==12.1.0.106 (from torch>=1.11.0->sentence-transformers>=2.6.0->langchain-huggingface)\n",
            "  Using cached nvidia_cusparse_cu12-12.1.0.106-py3-none-manylinux1_x86_64.whl (196.0 MB)\n",
            "Collecting nvidia-nccl-cu12==2.20.5 (from torch>=1.11.0->sentence-transformers>=2.6.0->langchain-huggingface)\n",
            "  Using cached nvidia_nccl_cu12-2.20.5-py3-none-manylinux2014_x86_64.whl (176.2 MB)\n",
            "Collecting nvidia-nvtx-cu12==12.1.105 (from torch>=1.11.0->sentence-transformers>=2.6.0->langchain-huggingface)\n",
            "  Using cached nvidia_nvtx_cu12-12.1.105-py3-none-manylinux1_x86_64.whl (99 kB)\n",
            "Requirement already satisfied: triton==2.3.0 in /usr/local/lib/python3.10/dist-packages (from torch>=1.11.0->sentence-transformers>=2.6.0->langchain-huggingface) (2.3.0)\n",
            "Collecting nvidia-nvjitlink-cu12 (from nvidia-cusolver-cu12==11.4.5.107->torch>=1.11.0->sentence-transformers>=2.6.0->langchain-huggingface)\n",
            "  Downloading nvidia_nvjitlink_cu12-12.5.40-py3-none-manylinux2014_x86_64.whl (21.3 MB)\n",
            "\u001b[2K     \u001b[90m━━━━━━━━━━━━━━━━━━━━━━━━━━━━━━━━━━━━━━━━\u001b[0m \u001b[32m21.3/21.3 MB\u001b[0m \u001b[31m39.3 MB/s\u001b[0m eta \u001b[36m0:00:00\u001b[0m\n",
            "\u001b[?25hCollecting mypy-extensions>=0.3.0 (from typing-inspect<1,>=0.4.0->dataclasses-json<0.7,>=0.5.7->langchain_community)\n",
            "  Downloading mypy_extensions-1.0.0-py3-none-any.whl (4.7 kB)\n",
            "Requirement already satisfied: joblib>=1.1.1 in /usr/local/lib/python3.10/dist-packages (from scikit-learn->sentence-transformers>=2.6.0->langchain-huggingface) (1.4.2)\n",
            "Requirement already satisfied: threadpoolctl>=2.0.0 in /usr/local/lib/python3.10/dist-packages (from scikit-learn->sentence-transformers>=2.6.0->langchain-huggingface) (3.5.0)\n",
            "Requirement already satisfied: MarkupSafe>=2.0 in /usr/local/lib/python3.10/dist-packages (from jinja2->torch>=1.11.0->sentence-transformers>=2.6.0->langchain-huggingface) (2.1.5)\n",
            "Requirement already satisfied: mpmath<1.4.0,>=1.1.0 in /usr/local/lib/python3.10/dist-packages (from sympy->torch>=1.11.0->sentence-transformers>=2.6.0->langchain-huggingface) (1.3.0)\n",
            "Building wheels for collected packages: wikipedia\n",
            "  Building wheel for wikipedia (setup.py) ... \u001b[?25l\u001b[?25hdone\n",
            "  Created wheel for wikipedia: filename=wikipedia-1.4.0-py3-none-any.whl size=11680 sha256=23892b22ee2e9c8f13672df24335d43b5e19937e519e73c57f92f4e4805c5237\n",
            "  Stored in directory: /root/.cache/pip/wheels/5e/b6/c5/93f3dec388ae76edc830cb42901bb0232504dfc0df02fc50de\n",
            "Successfully built wikipedia\n",
            "Installing collected packages: orjson, nvidia-nvtx-cu12, nvidia-nvjitlink-cu12, nvidia-nccl-cu12, nvidia-curand-cu12, nvidia-cufft-cu12, nvidia-cuda-runtime-cu12, nvidia-cuda-nvrtc-cu12, nvidia-cuda-cupti-cu12, nvidia-cublas-cu12, mypy-extensions, marshmallow, jsonpointer, h11, wikipedia, typing-inspect, tiktoken, nvidia-cusparse-cu12, nvidia-cudnn-cu12, jsonpatch, httpcore, nvidia-cusolver-cu12, langsmith, httpx, dataclasses-json, openai, langchain-core, sentence-transformers, langgraph, langchain-text-splitters, langchain_openai, langchain-huggingface, langchain, langchain_community, langchain_experimental\n",
            "Successfully installed dataclasses-json-0.6.7 h11-0.14.0 httpcore-1.0.5 httpx-0.27.0 jsonpatch-1.33 jsonpointer-3.0.0 langchain-0.2.5 langchain-core-0.2.9 langchain-huggingface-0.0.3 langchain-text-splitters-0.2.1 langchain_community-0.2.5 langchain_experimental-0.0.61 langchain_openai-0.1.9 langgraph-0.1.1 langsmith-0.1.81 marshmallow-3.21.3 mypy-extensions-1.0.0 nvidia-cublas-cu12-12.1.3.1 nvidia-cuda-cupti-cu12-12.1.105 nvidia-cuda-nvrtc-cu12-12.1.105 nvidia-cuda-runtime-cu12-12.1.105 nvidia-cudnn-cu12-8.9.2.26 nvidia-cufft-cu12-11.0.2.54 nvidia-curand-cu12-10.3.2.106 nvidia-cusolver-cu12-11.4.5.107 nvidia-cusparse-cu12-12.1.0.106 nvidia-nccl-cu12-2.20.5 nvidia-nvjitlink-cu12-12.5.40 nvidia-nvtx-cu12-12.1.105 openai-1.35.3 orjson-3.10.5 sentence-transformers-3.0.1 tiktoken-0.7.0 typing-inspect-0.9.0 wikipedia-1.4.0\n"
          ]
        }
      ],
      "source": [
        "## installing the required libraries\n",
        "\n",
        "!pip install langchain_community langchain_openai langchain langgraph langchain_experimental wikipedia langchain-huggingface"
      ]
    },
    {
      "cell_type": "code",
      "source": [
        "## also fetching the env vars for accessing the openai / tavily or other services\n",
        "from google.colab import userdata\n",
        "import os\n",
        "\n",
        "os.environ[\"TAVILY_API_KEY\"] = userdata.get(\"TAVILY_API_KEY\")\n",
        "os.environ[\"OPENAI_API_KEY\"] = userdata.get(\"OPENAI_API_KEY\")"
      ],
      "metadata": {
        "id": "6F0ahvA9hzQX"
      },
      "execution_count": null,
      "outputs": []
    },
    {
      "cell_type": "code",
      "source": [
        "\n",
        "from langchain_community.tools.tavily_search import TavilySearchResults\n",
        "from langchain_community.tools import wikipedia\n",
        "from langchain_community.utilities.wikipedia import WikipediaAPIWrapper\n",
        "from langchain_openai import OpenAI\n",
        "from langchain.agents import load_tools, AgentExecutor, create_openai_tools_agent\n",
        "from langchain_openai import ChatOpenAI\n",
        "from langchain_core.messages import BaseMessage, ToolMessage, HumanMessage, ChatMessage\n",
        "from langchain_core.prompts.chat import MessagesPlaceholder, ChatPromptTemplate\n",
        "from langchain_core.output_parsers.openai_functions import JsonOutputFunctionsParser\n",
        "import functools\n",
        "from langgraph.graph import END, StateGraph\n",
        "from typing import Sequence, TypedDict, Annotated\n",
        "import operator\n",
        "import os\n",
        "import getpass\n",
        "from langchain_community.tools import WikipediaQueryRun\n",
        "from langchain_community.utilities import WikipediaAPIWrapper\n",
        "\n",
        "\n"
      ],
      "metadata": {
        "id": "e56yflZziJ7U"
      },
      "execution_count": null,
      "outputs": []
    },
    {
      "cell_type": "code",
      "source": [
        "## making huggingface endpoint function in order to call freely available server inferrencing alternatives\n",
        "from langchain_huggingface import HuggingFaceEndpoint\n",
        "from langchain.agents import tool\n",
        "\n",
        "huggingfacellm = HuggingFaceEndpoint(\n",
        "    repo_id=\"meta-llama/Meta-Llama-3-8B-Instruct\",\n",
        "    task=\"text-generation\",\n",
        "    max_new_tokens=1000,\n",
        "    do_sample=False,\n",
        ")\n",
        "\n",
        "@tool\n",
        "def get_huggingface_invokation(query):\n",
        "  return huggingfacellm.invoke(query)\n",
        "\n"
      ],
      "metadata": {
        "id": "FpwCb9VjHUrS"
      },
      "execution_count": null,
      "outputs": []
    },
    {
      "cell_type": "code",
      "source": [
        "## adding langchain memory functions in order to excute the agent operations with memory.\n",
        "\n",
        "\n",
        "\n"
      ],
      "metadata": {
        "id": "iyALVzNwM4kf"
      },
      "execution_count": null,
      "outputs": []
    },
    {
      "cell_type": "code",
      "source": [
        "\n",
        "def scraping_agent(llm, tools, system_message: str):\n",
        "  \"\"\"\n",
        "  define the agent specialised with the addressing queries with context related to the wikipedia\n",
        "  \"\"\"\n",
        "  topoi_categories = [\"Comparison\", \"Cause & Effect\", \"Logical\", \"Ethical\", \"Slippery Slope\", \"Appeal to Authority\", \"Appeal to Emotion\"]\n",
        "\n",
        "  prompt = ChatPromptTemplate.from_messages(\n",
        "      [\n",
        "          (\n",
        "              \"system\",\n",
        "              \"You are helpful AI assistant specilizing in constructing arguments as topoi and collaborating with other assistants \"\n",
        "              \"Use the provided tools to progress towards responding to the given topoi, or giving contradiction provided by another.\"\n",
        "              \"you always need to cite the statistics with clear references and dont repeat the discussions on other topics\"\n",
        "              \"try to give as many hypothesis to support your response (at least 3) on each topic with reason\"\n",
        "              \"You will be provided with the topic : {topoi_category},\"\n",
        "              \"dont deviate much your answer around the topic and be precise\"\n",
        "              \"you will have to organise discussion for a topoi between assistant for 5 rounds checking the discussions of your corresponding researcher/ critic agent collague \"\n",
        "              \"AND MOST IMP:  Use as much facts from the news sources (WITH NUMBERS) as possible\"\n",
        "              \"prefix your response with FINAL ANSWER so all the subordinate teaam discussing with you knows when to stop after the 3 round discussion and shift to next discussion.\"\n",
        "              \"You have access to the following tools: {tool_names}.\\n{system_message}\",\n",
        "          ),\n",
        "          MessagesPlaceholder(variable_name=\"messages\"),\n",
        "      ]\n",
        "  )\n",
        "  prompt = prompt.partial(system_message=system_message)\n",
        "  prompt = prompt.partial(tool_names=\", \".join([tool.name for tool in tools]), topoi_category=\",\".join([_topoi for _topoi in topoi_categories]))\n",
        "  return prompt | llm.bind_tools(tools)\n",
        "\n",
        "\n",
        "\n",
        "def wikipedia_result(query):\n",
        "  wikipediaQuery = WikipediaQueryRun(api_wrapper=WikipediaAPIWrapper())\n",
        "  return wikipediaQuery.run(query)\n",
        "\n",
        "\n",
        "\n"
      ],
      "metadata": {
        "id": "xQkRWDODzZZt"
      },
      "execution_count": null,
      "outputs": []
    },
    {
      "cell_type": "code",
      "source": [
        "from typing import Annotated\n",
        "from langchain_community.tools.tavily_search import TavilySearchResults\n",
        "from langchain_core.tools import tool\n",
        "from langchain_experimental.utilities import PythonREPL\n",
        "\n",
        "tavily_tool = TavilySearchResults(max_results=5)\n"
      ],
      "metadata": {
        "id": "I4Q-6ju4EWKg"
      },
      "execution_count": null,
      "outputs": []
    },
    {
      "cell_type": "code",
      "source": [
        "## creating the agent operation\n",
        "\n",
        "import operator\n",
        "from typing import Annotated, Sequence, TypedDict\n",
        "\n",
        "from langchain_openai import ChatOpenAI\n",
        "\n",
        "# This defines the object that is passed between each node\n",
        "# in the graph. We will create different nodes for each agent and tool\n",
        "class AgentState(TypedDict):\n",
        "    messages: Annotated[Sequence[BaseMessage], operator.add]\n",
        "    sender: str\n"
      ],
      "metadata": {
        "id": "1apU_wS7Gx6D"
      },
      "execution_count": null,
      "outputs": []
    },
    {
      "cell_type": "code",
      "source": [
        "import functools\n",
        "\n",
        "from langchain_core.messages import AIMessage\n",
        "from langchain_community.tools import WikipediaQueryRun\n",
        "from langchain_community.utilities import WikipediaAPIWrapper\n",
        "\n",
        "# Helper function to create a node for a given agent\n",
        "def agent_node(state, agent, name):\n",
        "    result = agent.invoke(state)\n",
        "    # We convert the agent output into a format that is suitable to append to the global state\n",
        "    if isinstance(result, ToolMessage):\n",
        "        pass\n",
        "    else:\n",
        "        result = AIMessage(**result.dict(exclude={\"type\", \"name\"}), name=name)\n",
        "    return {\n",
        "        \"messages\": [result],\n",
        "        # Since we have a strict workflow, we can\n",
        "        # track the sender so we know who to pass to next.\n",
        "        \"sender\": name,\n",
        "    }\n",
        "\n",
        "llm = ChatOpenAI(model=\"gpt-4-1106-preview\")\n",
        "\n",
        "wikipediaTools = WikipediaQueryRun(api_wrapper=WikipediaAPIWrapper())\n",
        "\n",
        "# Research agent and node\n",
        "research_agent = scraping_agent(\n",
        "    llm,\n",
        "    [tavily_tool],\n",
        "\n",
        "    system_message=\"You should provide the accurate topoi responses based on the given topic and your subordinate discussion.\",\n",
        ")\n",
        "\n",
        "research_node = functools.partial(agent_node, agent=research_agent, name=\"Researcher\")\n",
        "\n",
        "\n",
        "\n",
        "# chart_generator\n",
        "chart_agent = scraping_agent(\n",
        "    llm,\n",
        "    [wikipediaTools],\n",
        "    system_message=\"the responses that you generate visible to the user with that of researcher.\",\n",
        ")\n",
        "critic_node = functools.partial(agent_node, agent=chart_agent, name=\"critic_node\")\n",
        "\n"
      ],
      "metadata": {
        "id": "l4nknURAIAnJ"
      },
      "execution_count": null,
      "outputs": []
    },
    {
      "cell_type": "code",
      "source": [
        "## defining the supervisor node that will be managing the running of the subordinate nodes\n",
        "from langgraph.prebuilt import ToolNode\n",
        "from typing import Literal\n",
        "\n",
        "tools = [tavily_tool, wikipediaTools]\n",
        "supervisor_node = ToolNode(tools)\n",
        "\n",
        "\n",
        "#  Here Either agent can decide to end based on their topoi result\n",
        "# but both will be synchronously generating the result for the specific topoi topic argument at same time\n",
        "\n",
        "def router(state) -> Literal[\"call_tool\", \"__end__\", \"continue\"]:\n",
        "    # This is the router\n",
        "    messages = state[\"messages\"]\n",
        "    last_message = messages[-1]\n",
        "    if last_message.tool_calls:\n",
        "        # The previous agent is invoking a tool\n",
        "        return \"call_tool\"\n",
        "    if \"FINAL ANSWER\" in last_message.content:\n",
        "        # Any agent decided the work is done\n",
        "        return \"__end__\"\n",
        "    return \"continue\"\n"
      ],
      "metadata": {
        "id": "RAAdSuRiK6Lm"
      },
      "execution_count": null,
      "outputs": []
    },
    {
      "cell_type": "code",
      "source": [
        "workflow = StateGraph(AgentState)\n",
        "\n",
        "workflow.add_node(\"Researcher\", research_node)\n",
        "workflow.add_node(\"critic_node\", critic_node)\n",
        "workflow.add_node(\"call_tool\", supervisor_node)\n",
        "\n",
        "workflow.add_conditional_edges(\n",
        "   \"Researcher\",\n",
        "    router,\n",
        "    {\"continue\": \"critic_node\", \"call_tool\": \"call_tool\", \"__end__\": END},\n",
        ")\n",
        "\n",
        "workflow.add_conditional_edges(\n",
        "    \"critic_node\",\n",
        "    router,\n",
        "    {\"continue\": \"Researcher\", \"call_tool\": \"call_tool\", \"__end__\": END},\n",
        ")\n",
        "\n",
        "\n",
        "workflow.add_conditional_edges(\n",
        "    \"call_tool\",\n",
        "    # Each agent node updates the 'sender' field\n",
        "    # the tool calling node does not, meaning\n",
        "    # this edge will route back to the original agent\n",
        "    # who invoked the tool\n",
        "    lambda x: x[\"sender\"],\n",
        "    {\n",
        "        \"Researcher\": \"Researcher\",\n",
        "        \"critic_node\": \"critic_node\",\n",
        "    },\n",
        ")\n",
        "\n",
        "\n",
        "workflow.set_entry_point(\"Researcher\")\n",
        "graph = workflow.compile()\n",
        "\n",
        "\n",
        "\n",
        "\n",
        "\n",
        "\n",
        "\n",
        "\n"
      ],
      "metadata": {
        "id": "AxwWwvZoL_xm"
      },
      "execution_count": null,
      "outputs": []
    },
    {
      "cell_type": "code",
      "source": [
        "## showcasing the workflow of the graph:\n",
        "\n",
        "\n",
        "from IPython.display import Image, display\n",
        "\n",
        "try:\n",
        "    display(Image(graph.get_graph(xray=True).draw_mermaid_png()))\n",
        "except Exception:\n",
        "    # This requires some extra dependencies and is optional\n",
        "    pass\n"
      ],
      "metadata": {
        "colab": {
          "base_uri": "https://localhost:8080/",
          "height": 338
        },
        "id": "1Q_y4wUfNbL-",
        "outputId": "e880e58d-19d8-4ef5-dfab-e3193ae83c1e"
      },
      "execution_count": null,
      "outputs": [
        {
          "output_type": "display_data",
          "data": {
            "image/jpeg": "[encoded data removed]",
            "text/plain": [
              "<IPython.core.display.Image object>"
            ]
          },
          "metadata": {}
        }
      ]
    },
    {
      "cell_type": "code",
      "source": [
        "## now finally invoking the function on a specific query\n",
        "\n",
        "\n",
        "\n",
        "events = graph.stream(\n",
        "    {\n",
        "        \"messages\": [\n",
        "            HumanMessage(\n",
        "                content=\"Construct and debate the various category of topoi argument\"\n",
        "                \"on the topic: Israel and hamas war and how the israel's legitimate right of defense is countered by palestinians accusation of genocide?\"\n",
        "\n",
        "            )\n",
        "        ],\n",
        "    },\n",
        "    # Maximum number of steps to take in the graph\n",
        "    {\"recursion_limit\": 400},\n",
        ")\n",
        "for s in events:\n",
        "    print(s)\n",
        "    print(\"----\")\n"
      ],
      "metadata": {
        "colab": {
          "base_uri": "https://localhost:8080/"
        },
        "id": "xtMtgwkSNeS1",
        "outputId": "ff109b21-353d-425c-8cca-2c5a467d5a91"
      },
      "execution_count": null,
      "outputs": [
        {
          "output_type": "stream",
          "name": "stdout",
          "text": [
            "{'Researcher': {'messages': [AIMessage(content=\"To engage in this debate, we will consider various categories of topoi arguments to analyze the topic: the conflict between Israel and Hamas, focusing on Israel's claim to a legitimate right of defense versus Palestinian accusations of genocide. The categories will include Comparison, Cause & Effect, Logical, Ethical, Slippery Slope, Appeal to Authority, and Appeal to Emotion.\\n\\nROUND 1: INITIATING DISCUSSION\\n\\n1. Comparison:\\nHypothesis: The situation between Israel and Hamas can be compared to other international conflicts where a state asserts its right to self-defense.\\nReason: Similar to how other nations respond to threats, Israel claims the right to defend its citizens against Hamas's rocket attacks. Conversely, Palestinians compare their plight to historical instances of oppression and systemic violence.\\n\\n2. Cause & Effect:\\nHypothesis: Israel's military actions lead to Palestinian casualties, which are then framed as genocide by some groups.\\nReason: The use of force by Israel is seen as a direct cause of loss of life and infrastructure in Gaza, which Palestinians and their supporters interpret as disproportionate and systematic, akin to genocidal actions.\\n\\n3. Logical:\\nHypothesis: If a state has a right to defend itself, then Israel's actions could be justified; however, this is contingent upon adherence to international laws regarding warfare.\\nReason: The principle of self-defense is logical and internationally recognized, but must align with the rules of engagement that protect civilian lives and property.\\n\\n4. Ethical:\\nHypothesis: Ethical considerations question the morality of Israel's military responses and the Palestinian accusations of genocide.\\nReason: The debate hinges on the ethical evaluation of causality, proportionality, and intention behind the actions of both Israel and Hamas.\\n\\n5. Slippery Slope:\\nHypothesis: Accusations of genocide might lead to increased international intervention, potentially escalating the conflict.\\nReason: If the international community perceives Israel's actions as genocidal, this could result in a slippery slope of sanctions, interventions, or even military actions against Israel.\\n\\n6. Appeal to Authority:\\nHypothesis: Both sides appeal to different authorities to justify their actions or claims.\\nReason: Israel often cites its right to defense under international law and support from allies, while Palestinians invoke human rights organizations and resolutions condemning Israel's actions.\\n\\n7. Appeal to Emotion:\\nHypothesis: The conflict is characterized by strong emotional appeals from both sides.\\nReason: Images and stories of suffering from both Israelis and Palestinians are used to garner international sympathy and support for their respective causes.\\n\\nWe will now engage in a discussion with other assistants to analyze these hypotheses further.\", response_metadata={'token_usage': {'completion_tokens': 528, 'prompt_tokens': 326, 'total_tokens': 854}, 'model_name': 'gpt-4-1106-preview', 'system_fingerprint': None, 'finish_reason': 'stop', 'logprobs': None}, name='Researcher', id='run-9c69f106-5290-429b-9460-32391ffe94fa-0', usage_metadata={'input_tokens': 326, 'output_tokens': 528, 'total_tokens': 854})], 'sender': 'Researcher'}}\n",
            "----\n",
            "{'critic_node': {'messages': [AIMessage(content='', additional_kwargs={'tool_calls': [{'id': 'call_GXlEi66jatTHzEIuiE2HYSK2', 'function': {'arguments': '{\"query\": \"Israel Right of self-defense\"}', 'name': 'wikipedia'}, 'type': 'function'}, {'id': 'call_wXZaC1lbrKqKsgp1J1i2HgqR', 'function': {'arguments': '{\"query\": \"Accusations of genocide against Israel\"}', 'name': 'wikipedia'}, 'type': 'function'}]}, response_metadata={'token_usage': {'completion_tokens': 85, 'prompt_tokens': 854, 'total_tokens': 939}, 'model_name': 'gpt-4-1106-preview', 'system_fingerprint': None, 'finish_reason': 'tool_calls', 'logprobs': None}, name='critic_node', id='run-5ecccde3-28ff-4683-81bd-54e7f028a4f7-0', tool_calls=[{'name': 'wikipedia', 'args': {'query': 'Israel Right of self-defense'}, 'id': 'call_GXlEi66jatTHzEIuiE2HYSK2'}, {'name': 'wikipedia', 'args': {'query': 'Accusations of genocide against Israel'}, 'id': 'call_wXZaC1lbrKqKsgp1J1i2HgqR'}], usage_metadata={'input_tokens': 854, 'output_tokens': 85, 'total_tokens': 939})], 'sender': 'critic_node'}}\n",
            "----\n",
            "{'call_tool': {'messages': [ToolMessage(content='Page: Right of self-defense\\nSummary: The right of self-defense (also called, when it applies to the defense of another, alter ego defense, defense of others, defense of a third person) is the right for people to use reasonable or defensive force, for the purpose of defending one\\'s own life (self-defense) or the lives of others, including, in certain circumstances, the use of deadly force.\\nIf a defendant uses defensive force because of a threat of deadly or grievous harm by the other person, or a reasonable perception of such harm, the defendant is said to have a \"perfect self-defense\" justification. If defendant uses defensive force because of such a perception, and the perception is not reasonable, the defendant may have an \"imperfect self-defense\" as an excuse.\\n\\nPage: Self-defense\\nSummary: Self-defense (self-defence primarily in Commonwealth English) is a countermeasure that involves defending the health and well-being of oneself from harm. The use of the right of self-defense as a legal justification for the use of force in times of danger is available in many jurisdictions.\\n\\n\\n\\nPage: Israel\\nSummary: Israel, officially the State of Israel, is a country in the Southern Levant, West Asia. It is bordered by Lebanon and Syria to the north, the West Bank and Jordan to the east, Egypt, the Gaza Strip and the Red Sea to the south, and the Mediterranean Sea to the west. Tel Aviv is the country\\'s financial, economic, and technological center. Israel\\'s governmental seat is in its proclaimed capital of Jerusalem, though recognition of Israeli sovereignty over East Jerusalem is limited internationally.\\nIsrael is in a region known historically as Canaan, Palestine, and the Holy Land. It was home to Canaanite city-states, then Israelite and Judahite kingdoms, and is referred to as the Land of Israel in Jewish tradition. Situated at a continental crossroad, the region was then ruled by various empires. Amid European antisemitism, the late 19th century saw the rise of Zionism, which sought a Jewish homeland, and received British support in World War I. British occupation led to the establishment of Mandatory Palestine in 1920. Jewish immigration, combined with British colonial policy, led to intercommunal conflict between Jews and Arabs. The 1947 UN Partition Plan triggered civil war between them.\\nThe State of Israel declared its establishment on 14 May 1948, at the end of the British mandate. The next day, armies of neighboring Arab states invaded, starting the First Arab–Israeli War. The Palestinians were expelled or made to flee, by paramilitaries and the IDF, an explusion known as the Nakba. Over the following decades, Israel received an influx of immigration from Jews who emigrated, fled, or were expelled from the Muslim world. The 1949 Armistice Agreements established Israel\\'s borders over most of the former Mandate territory. The West Bank and Gaza Strip were taken by Jordan and Egypt respectively. During and following World War II, Israel received European Jews displaced by the Holocaust. The 1967 Six-Day War saw Israel occupy the West Bank, Gaza Strip, Egyptian Sinai Peninsula and Syrian Golan Heights. Israel has established and continues to expand settlements across the occupied territories, which is deemed illegal under international law, and has annexed East Jerusalem and the Golan Heights, which is largely unrecognized internationally. Since the 1973 Yom Kippur War, Israel has signed peace treaties with Egypt, returning the Sinai Peninsula, and Jordan, and into the 2020s has normalized relations with several Arab countries. However, efforts to resolve the Israeli–Palestinian conflict have not succeeded. Israel has been internationally criticised in its occupation of the Palestinian territories, and been accused of committing war crimes and crimes against humanity against the Palestinians, by human rights organizations and UN officials.\\nThe country has a parliamentary system elected by proportional representation. The prime mini', name='wikipedia', tool_call_id='call_GXlEi66jatTHzEIuiE2HYSK2'), ToolMessage(content='Page: Palestinian genocide accusation\\nSummary: The State of Israel has been accused of carrying out or inciting genocide against Palestinians during the Israeli–Palestinian conflict. Debates are ongoing as to whether the entire process and which specific periods or events meet the definitions of genocide or not. The legitimacy of the State of Israel is an ongoing debate in the academic literature; many scholars have conceptualized Israel as an illegitimate settler colonial state built on indigenous land theft. Those who believe Israel\\'s actions constitute genocide point to the phenomena of anti-Palestinianism, Islamophobia, anti-Arab racism in Israeli society, and they cite the Nakba, the Sabra and Shatila massacre, the blockade of the Gaza Strip, the 2014 Gaza War and the 2023 Israel–Hamas war. International law and genocide scholars have accused Israeli officials of using dehumanising language. During the 2023 Israel–Hamas war, Israeli Holocaust historian Omer Bartov warned that statements made by high-ranking Israeli government officials \"could easily be construed as indicating a genocidal intent\".\\nOn 29 December 2023, South Africa filed a case against Israel at the International Court of Justice, alleging that Israel\\'s conduct in Gaza during the 2023 war amounted to genocide. South Africa asked the ICJ to issue provisional measures, including ordering Israel to halt its military campaign in Gaza. The Israeli government agreed to defend itself at the ICJ proceedings, while also denouncing South Africa\\'s actions as \"disgraceful\" and accusing it of abetting \"the modern heirs of the Nazis\". South Africa\\'s case has been supported by a number of countries. On 26 January 2024, the ICJ issued a preliminary ruling finding that the claims in South Africa\\'s filing were \"plausible\" and issued an order to Israel requiring them to take all measures within their power to prevent acts of genocide and to allow basic humanitarian services into Gaza. In March 2024, the UN special rapporteur on the situation of human rights in the occupied Palestinian Territories issued a report stating that \"reasonable grounds to believe that the threshold indicating the commission\" of acts of genocide had been met.\\nIsrael and the United States have rejected the assertion that Israel is engaging in genocide. While some scholars describe Palestinians as victims of genocide, others argue that they are not victims of genocide, but rather of ethnic cleansing, politicide, spaciocide, cultural genocide or similar. Some critics of the accusation have argued that the charge that Israel is committing genocide is an assertion commonly made by anti-Zionists with the aim of delegitimising or demonising Israel.\\n\\n\\n\\nPage: South Africa\\'s genocide case against Israel\\nSummary: South Africa\\'s genocide case against Israel was brought before the International Court of Justice (ICJ) on 29 December 2023 by South Africa regarding Israel\\'s conduct in the Gaza Strip as part of the Israel–Hamas war. The case is officially known as Application of the Convention on the Prevention and Punishment of the Crime of Genocide in the Gaza Strip (South Africa v. Israel).\\nSouth Africa alleged that Israel had committed and was committing genocide against Palestinians in the Gaza Strip, contravening the Genocide Convention, including what South Africa described as Israel\\'s 75-year apartheid, 56-year occupation, and 16-year blockade of the Strip. South Africa requested that the ICJ indicate provisional measures including the immediate suspension of Israel\\'s operations. Israel characterized South Africa\\'s charges as \"baseless\", describing the country as \"functioning as the legal arm\" of Hamas. Israel said that it was conducting a war of self-defense in accordance with international law following the Hamas-led attack on its territory on 7 October 2023.\\nTwo days of public hearings were held on 11 and 12 January 2024 at the Peace Palace in The Hague. The Court issued an Order, in which it ordered Israel', name='wikipedia', tool_call_id='call_wXZaC1lbrKqKsgp1J1i2HgqR')]}}\n",
            "----\n",
            "{'critic_node': {'messages': [AIMessage(content=\"ROUND 2: ANALYZING THE INFORMATION\\n\\nBased on the information provided by Wikipedia, we can delve deeper into the arguments and refine our hypotheses.\\n\\n1. Comparison:\\nRefinement: The conflict between Israel and Hamas bears similarities to other asymmetrical conflicts where a state exercises its right to self-defense against non-state actors.\\nReason: The dynamics of the Israel-Hamas conflict reflect broader patterns found in asymmetrical warfare, where the state actor is often held to higher standards of conduct due to its capacity and international standing.\\n\\n2. Cause & Effect:\\nRefinement: Israel's actions are often in response to aggression from Hamas, but the effects of its defense measures are seen as having disproportionate impact on the Palestinian population.\\nReason: While Israel justifies its actions as self-defense, the extent of damage and civilian casualties results in accusations of excessive force, which some interpret as genocidal intent.\\n\\n3. Logical:\\nRefinement: Israel's right to self-defense is logical but must be balanced against the necessity to adhere to principles of distinction and proportionality in international law.\\nReason: The legality of Israel's actions hinges not just on the right to self-defense but also on compliance with international humanitarian law, which aims to limit the effects of armed conflict on civilians.\\n\\n4. Ethical:\\nRefinement: Ethical arguments must consider both the intent behind Israel's military actions and the humanitarian consequences for Palestinians.\\nReason: The ethical debate is compounded by the intention to protect Israeli citizens and the state's sovereignty versus the ethical obligation to minimize harm to civilians and respect for Palestinian human rights.\\n\\n5. Slippery Slope:\\nRefinement: Accusations of genocide, especially if taken up by international bodies like the International Court of Justice, could lead to further polarization and entrenchment of the conflict.\\nReason: International legal actions, such as the case brought by South Africa against Israel, can have far-reaching consequences, potentially affecting diplomatic relations and the likelihood of future negotiations.\\n\\n6. Appeal to Authority:\\nRefinement: The international legal community's perspective on Israel's actions and the accusations of genocide carry significant weight in shaping global opinion and policy.\\nReason: Decisions and statements by entities like the International Court of Justice or the United Nations affect the legitimacy of the claims made by both Israel and the Palestinians.\\n\\n7. Appeal to Emotion:\\nRefinement: The emotional impact of civilian casualties and the suffering of people in Gaza intensify calls for action and influence international perceptions of the conflict.\\nReason: Emotional appeals can mobilize public opinion and pressure governments to take a stand or intervene, thus having a tangible effect on the course of the conflict.\\n\\nWe will now proceed to a final round of discussion to reach a conclusion on these arguments.\", response_metadata={'token_usage': {'completion_tokens': 542, 'prompt_tokens': 2539, 'total_tokens': 3081}, 'model_name': 'gpt-4-1106-preview', 'system_fingerprint': None, 'finish_reason': 'stop', 'logprobs': None}, name='critic_node', id='run-ac740bc3-1baf-4607-b3d4-682b32f9fc8c-0', usage_metadata={'input_tokens': 2539, 'output_tokens': 542, 'total_tokens': 3081})], 'sender': 'critic_node'}}\n",
            "----\n",
            "{'Researcher': {'messages': [AIMessage(content='', additional_kwargs={'tool_calls': [{'id': 'call_4rRW5ONRJUCak5LhAUinTpV8', 'function': {'arguments': '{\"query\": \"International humanitarian law Israel Palestine\"}', 'name': 'tavily_search_results_json'}, 'type': 'function'}, {'id': 'call_4NIXCaJBDHtVTPnxyaSfmMP1', 'function': {'arguments': '{\"query\": \"International Court of Justice rulings Israel Palestine\"}', 'name': 'tavily_search_results_json'}, 'type': 'function'}]}, response_metadata={'token_usage': {'completion_tokens': 61, 'prompt_tokens': 3094, 'total_tokens': 3155}, 'model_name': 'gpt-4-1106-preview', 'system_fingerprint': None, 'finish_reason': 'tool_calls', 'logprobs': None}, name='Researcher', id='run-dfc706b8-9adc-439c-98c8-10e1ba254186-0', tool_calls=[{'name': 'tavily_search_results_json', 'args': {'query': 'International humanitarian law Israel Palestine'}, 'id': 'call_4rRW5ONRJUCak5LhAUinTpV8'}, {'name': 'tavily_search_results_json', 'args': {'query': 'International Court of Justice rulings Israel Palestine'}, 'id': 'call_4NIXCaJBDHtVTPnxyaSfmMP1'}], usage_metadata={'input_tokens': 3094, 'output_tokens': 61, 'total_tokens': 3155})], 'sender': 'Researcher'}}\n",
            "----\n",
            "{'call_tool': {'messages': [ToolMessage(content='[{\"url\": \"https://www.hrw.org/news/2023/10/27/how-does-international-humanitarian-law-apply-israel-and-gaza\", \"content\": \"More Reading\\\\nIsrael-Palestine Hostilities Affect Rights in Europe\\\\nUN General Assembly Should Act on Gaza\\\\nReports\\\\n\\\\u201cIt Was Really Hard to Protect Myself\\\\u201d\\\\nImpact of the Armed Conflict in Syria on Children with Disabilities\\\\n\\\\\"Targeting Life in Idlib\\\\\"\\\\nSyrian and Russian Strikes on Civilian Infrastructure\\\\nMore Reading\\\\nIsrael-Palestine Hostilities Affect Rights in Europe\\\\nUN General Assembly Should Act on Gaza\\\\nMost Viewed\\\\nIsrael/Palestine: Videos of Hamas-Led Attacks Verified\\\\nA Threshold Crossed\\\\n\\\\u201cDon\\\\u2019t Punish Me for Who I Am\\\\u201d\\\\nIsrael: White Phosphorus Used in Gaza, Lebanon\\\\nNigeria: Child Marriage Violates Girls\\\\u2019 Rights\\\\nShare this via Facebook\\\\nShare this via Twitter\\\\nShare this via WhatsApp\\\\nShare this via Email\\\\nOther ways to share\\\\nShare this via LinkedIn\\\\nShare this via Reddit\\\\nShare this via Telegram\\\\nShare this via Printer\\\\nProtecting Rights, Saving Lives\\\\nHuman Rights Watch defends the rights of people in close to 100 countries worldwide, spotlighting abuses and bringing perpetrators to justice\\\\nGet updates on human rights issues from around the globe. How Does International Humanitarian Law Apply in Israel and Gaza?\\\\ncliveabaldwin\\\\nShare this via Facebook\\\\nShare this via Twitter\\\\nShare this via WhatsApp\\\\nShare this via Email\\\\nOther ways to share\\\\nShare this via LinkedIn\\\\nShare this via Reddit\\\\nShare this via Telegram\\\\nShare this via Printer\\\\nIn the aftermath of\\\\u00a0Hamas\\\\u2019s attack on Israel, and Israel\\\\u2019s ensuing bombardment campaign of the Gaza Strip, there is much discussion, by both experts and non-experts, about\\\\u00a0international humanitarian law (IHL), the law governing armed conflict and military occupation, and its application in the current hostilities involving Israel and Palestinian armed groups.\\\\n The\\\\u00a0International Criminal Court\\\\u00a0(ICC) in The Hague has jurisdiction over war crimes and other serious international crimes committed in or from the OPT (the territory of the State of Palestine, which is an ICC member), and by nationals of Palestine.\\\\n The deliberate killing of Israeli civilians and taking of hundreds of\\\\u00a0hostages\\\\u00a0by Hamas and other armed groups are war crimes, as is the launch of rockets indiscriminately at Israeli communities.\\\\u00a0About\\\\u00a01,400 Israelis have been killed since 7 October, according to the Israeli government.\\\\n It is not simply enough to claim that civilians are not the target of the attack; international humanitarian law requires that the parties to the conflict must take all feasible precautions to minimise harm to civilians and civilian objects.\\\\n\"}, {\"url\": \"https://www.cfr.org/article/what-international-law-has-say-about-israel-hamas-war\", \"content\": \"Climate Change\\\\nGlobal Climate Agreements: Successes and Failures\\\\nBackgrounder\\\\nby Lindsay Maizland\\\\nSeptember 15, 2023\\\\nRenewing America\\\\nMyanmar\\\\nMyanmar\\\\u2019s Troubled History\\\\nBackgrounder\\\\nby Lindsay Maizland\\\\nJanuary 31, 2022\\\\nHealth\\\\nHow New Tobacco Control Laws Could Help Close the Racial Gap on U.S. Cancer\\\\nInteractive\\\\nby Olivia\\\\nAngelino, Thomas J. Bollyky, Elle Ruggiero and Isabella Turilli\\\\nFebruary 1, 2023\\\\nGlobal Health Program\\\\nHuman Rights\\\\nInternational Law and the Humanitarian Crisis in Gaza\\\\nVirtual Event\\\\nwith Steven A. Cook, David J. Scheffer and Sarah Yager\\\\nNovember 13, 2023\\\\nMedia Briefings\\\\nUnited States\\\\nAcademic Webinar: The Geopolitics of Oil\\\\nWebinar\\\\nwith Carolyn Kissane\\\\nApril 12, 2023\\\\nAcademic and Higher Education Webinars\\\\nIsraeli-Palestinian Conflict\\\\nThe Conflict in the Middle East\\\\nWebinar\\\\nwith Max Boot, Steven A. Cook, Linda Robinson and Ray Takeyh\\\\nOctober 9, 2023\\\\nMiddle East Program\\\\nWhat International Law Has to Say About the Israel-Hamas War\\\\nHamas\\\\u2019s attack on Israel and the ensuing war in the Gaza Strip raise a host of questions about the combatants\\\\u2019 legal obligations.\\\\n Explore More on Israeli-Palestinian Conflict\\\\nPalestinian Territories\\\\nWhat Is Hamas?\\\\nBackgrounder\\\\nby Kali Robinson\\\\nOctober 31, 2023\\\\nMiddle East and North Africa\\\\nThe Arab League\\\\nBackgrounder\\\\nby Jonathan Masters and Mohammed Aly Sergie\\\\nMay 25, 2023\\\\nIsrael\\\\nIsrael\\\\u2019s Unusual Crisis Coalition: What to Expect\\\\nIn Brief\\\\nby Philip H. Gordon\\\\nApril 21, 2020\\\\nMiddle East Program\\\\nTop Stories on CFR\\\\nUnited States\\\\nAntisemitism and Anti-Muslim Hate are Surging. Blog Post\\\\nby Farah Pandith and Jacob Ware\\\\nNovember 16, 2023\\\\nRenewing America\\\\nArgentina\\\\nArgentina Election Draws Wider Attention to Embattled Economy\\\\nArticle\\\\nby Brad W. Setser\\\\nNovember 16, 2023\\\\nChina\\\\nMeeting Low Expectations: Analyzing President Biden\\\\u2019s Summit with Chinese President Xi Jinping\\\\nBlog Post\\\\nby David Sacks\\\\nNovember 15, 2023\\\\nAsia Unbound More on:\\\\nIsraeli-Palestinian Conflict\\\\nTerrorism and Counterterrorism\\\\nInternational Law\\\\nDefense and Security\\\\nHuman Rights\\\\nHamas\\\\u2019s killing of at least 1400 Israeli civilians (including children) during its surprise attack on Israeli territory violated provisions of international humanitarian law that are designed to protect civilians and their property during war. However, the U.S. Supreme Court discredited that legal argument in 2006, ruling that Common Article 3 of the conventions did apply to the U.S. war with al-Qaeda.\\\\nIsrael and the \\\\u201cstate of Palestine,\\\\u201d which is recognized by most countries as comprising the West Bank, Gaza, and East Jerusalem, are ratified parties of the four Geneva Conventions of 1949.\"}, {\"url\": \"https://www.ohchr.org/en/press-releases/2022/10/commission-inquiry-finds-israeli-occupation-unlawful-under-international-law\", \"content\": \"The UN Human Rights Council mandated the Commission on 27 May 2021 to \\\\\"investigate, in the Occupied Palestinian Territory, including East Jerusalem, and in Israel, all alleged violations of international humanitarian law and all alleged violations and abuses of international human rights law leading up and since 13 April 2021\\\\\". In July 2021 ...\"}, {\"url\": \"https://news.un.org/en/story/2024/06/1150946\", \"content\": \"The Commission of Inquiry was established by the UN Human Rights Council to, among other points, investigate, in the Occupied Palestinian Territory, including East Jerusalem, and in Israel, all alleged violations of international humanitarian law and abuses of international human rights law leading up and since 13 April 2021.\"}, {\"url\": \"https://reliefweb.int/report/occupied-palestinian-territory/how-does-international-humanitarian-law-apply-israel-and-gaza-enar\", \"content\": \"International humanitarian law governs the conduct of hostilities and is distinct from the law that governs the decision to use force. Whatever the legality of a decision to use force, all parties ...\"}]', name='tavily_search_results_json', tool_call_id='call_4rRW5ONRJUCak5LhAUinTpV8'), ToolMessage(content='[{\"url\": \"https://www.icj-cij.org/case/186\", \"content\": \"Filing of written statements\\\\nPart II (D): Human rights documentation\\\\nPart II (D): Human rights documentation\\\\nPart II (D) 1 - General Assembly\\\\nPart II (D) 2 - Human Rights Council\\\\nPart II (D) 3 - Commission on Human Rights\\\\nPart II (D) 4 - Human rights treaty bodies\\\\nPart II (D) 5 - Universal periodic review\\\\nList of Documents Part 2 (documents received from the Secretariat of the United Nations)\\\\nList of Documents Part 2 (documents received from the Secretariat of the United Nations)\\\\nIntroductory Note Part 2 (documents received from the Secretariat of the United Nations)\\\\nIntroductory Note Part 2 (documents received from the Secretariat of the United Nations)\\\\nPart II (C) - Security Council (documents received from the Secretariat of the United Nations)\\\\nPart II (C) - Security Council (documents received from the Secretariat of the United Nations)\\\\nPart II (B) - General Assembly Emergency Special Sessions (documents received from the Secretariat of the United Nations)\\\\nPart II (B) - General Assembly Emergency Special Sessions (documents received from the Secretariat of the United Nations)\\\\nPart II (A) - Material of the United Nations Relating to the Questions before the\\\\u00a0Court\\\\u00a0(documents received from the Secretariat of the United Nations)\\\\nPart II (A) - Material of the United Nations Relating to the Questions before the\\\\u00a0Court\\\\u00a0(documents received from the Secretariat of the United Nations)\\\\nPart II (A) The Court makes an Order organizing the proceedings; it fixes the time-limits for the presentation of written statements and for written comments on those statements\\\\nOrder of 3 February 2023\\\\nFixing of time-limits: Presentation of the written statements and written comments on those statements\\\\nThe General Assembly of the United Nations requests an advisory opinion from the Court in its resolution A/RES/77/247 on \\\\u201cIsraeli practices affecting the human rights of the Palestinian people in the Occupied Palestinian Territory, including East Jerusalem\\\\u201d\\\\nRequest for Advisory Opinion\\\\nRequest for Advisory Opinion\\\\nTop Menu\\\\nFooter menu\\\\n\\\\u00a9 International Court of Justice 2017-2024 \\\\u2013 All rights reserved.\\\\n 1- Israeli Settlements\\\\nPart II (A) 2 - Living Conditions of the Palestinian People\\\\nPart II (A) 3 - Palestinian Children and Women\\\\nPart II (A) 4 - Permanent Sovereignty over Natural and National Resources\\\\nPart II (A) 5 - Right to Self-Determination\\\\nPart II (A) 6 - Question of Palestine\\\\nPart II (A) 7 - Situation in the Middle East\\\\nPart II (A) 8 - Special Committee to Investigate Israeli Practices Affecting the Human Rights of the Palestinian People\\\\nPart II (A) 9 - United Nations Relief and Works Agency for Palestine in the Near East (UNRWA)\\\\n List of Documents (documents received from the Secretariat of the United Nations)\\\\nIntroductory Note (documents received from the Secretariat of the United Nations)\\\\nIntroductory Note (documents received from the Secretariat of the United Nations)\\\\nLegal Consequences arising from the Policies and Practices of Israel in the Occupied Palestinian Territory, including East Jerusalem (Request for Advisory Opinion) - Top Menu\\\\nLegal Consequences arising from the Policies and Practices of Israel in the Occupied Palestinian Territory, including East Jerusalem\\\\nLegal Consequences arising from the Policies and Practices of Israel in the Occupied Palestinian Territory, including East Jerusalem\\\\nLegal Consequences arising from the Policies and Practices of Israel in the Occupied Palestinian Territory, including East Jerusalem (Request for Advisory Opinion) -\"}, {\"url\": \"https://apnews.com/article/israel-palestinians-icj-court-hearings-gaza-hamas-18680f6ce9d8508d59c006780e23b346\", \"content\": \"Majority of countries argue Israel violated international law in last historic hearing at UN court\\\\nA Palestinian flag flies outside the United Nations\\\\u2019 highest court, rear, during historic hearings in The Hague, Netherlands, Wednesday, Feb. 21, 2024, into the legality of Israel\\\\u2019s 57-year occupation of the West Bank and east Jerusalem, plunging the 15 international judges back into the heart of the decades-long Israeli-Palestinian conflict. (AP Photo/Peter Dejong)\\\\nA pro-Palestinian demonstrator holds a sign outside the United Nations\\\\u2019 highest court, rear, during historic hearings in The Hague, Netherlands, Wednesday, Feb. 21, 2024, into the legality of Israel\\\\u2019s 57-year occupation of the West Bank and east Jerusalem, plunging the 15 international judges back into the heart of the decades-long Israeli-Palestinian conflict. (AP Photo/Peter Dejong)\\\\nA pro-Palestinian demonstrator holds a sign outside the United Nations\\\\u2019 highest court, rear, during historic hearings in The Hague, Netherlands, Wednesday, Feb. 21, 2024, into the legality of Israel\\\\u2019s 57-year occupation of the West Bank and east Jerusalem, plunging the 15 international judges back into the heart of the decades-long Israeli-Palestinian conflict. (AP Photo/Peter Dejong)\\\\nA pro-Palestinian demonstrator holds a sign outside the United Nations\\\\u2019 highest court, rear, during historic hearings in The Hague, Netherlands, Wednesday, Feb. 21, 2024, into the legality of Israel\\\\u2019s 57-year occupation of the West Bank and east Jerusalem, plunging the 15 international judges back into the heart of the decades-long Israeli-Palestinian conflict. A Palestinian flag flies outside the United Nations\\\\u2019 highest court, rear, during historic hearings in The Hague, Netherlands, Wednesday, Feb. 21, 2024, into the legality of Israel\\\\u2019s 57-year occupation of the West Bank and east Jerusalem, plunging the 15 international judges back into the heart of the decades-long Israeli-Palestinian conflict.\"}, {\"url\": \"https://www.icj-cij.org/case/186/oral-proceedings\", \"content\": \"Public sitting held on Monday 19 February 2024, at 10 a.m., at the Peace Palace, President Salam presiding, on the Legal Consequences arising from the Policies and Practices of Israel in the Occupied Palestinian Territory, including East Jerusalem (Request for advisory opinion submitted by the General Assembly of the United Nations) Public ...\"}, {\"url\": \"https://www.reuters.com/world/middle-east/key-takeaways-world-court-decision-israei-genocide-case-2024-01-26/\", \"content\": \"The International Court of Justice (ICJ) ordered Israel on Friday to take action to prevent acts of genocide as it wages war against Hamas militants in the Gaza Strip but stopped short of calling ...\"}, {\"url\": \"https://global.upenn.edu/perryworldhouse/news/explaining-international-court-justices-ruling-israel-and-gaza\", \"content\": \"Burke-White: In its January 26 decision, the International Court of Justice (ICJ) ordered Israel to take steps to prevent any acts of genocide in Gaza. The Court required that Israel ensure that it does not commit acts that might fall within the scope of the Convention on the Prevention and Punishment of the Crime of Genocide.\"}]', name='tavily_search_results_json', tool_call_id='call_4NIXCaJBDHtVTPnxyaSfmMP1')]}}\n",
            "----\n",
            "{'Researcher': {'messages': [AIMessage(content=\"FINAL ANSWER: CONCLUDING THE DISCUSSION\\n\\nAfter analyzing the information obtained from the various sources, we can reach the following conclusions for each of the topoi categories:\\n\\n1. Comparison:\\nFinal Hypothesis: The Israel-Hamas conflict is similar to other asymmetrical conflicts, but unique historical and geopolitical factors contribute to its complexity.\\nReason: The comparison to other conflicts must account for the unique aspects of the Israeli-Palestinian history and the roles of regional and global actors.\\n\\n2. Cause & Effect:\\nFinal Hypothesis: Israel's military responses are causally linked to Hamas attacks, but the effects are scrutinized due to high Palestinian casualties and infrastructural damage.\\nReason: International humanitarian law requires minimizing harm to civilians, which is central in evaluating the effects of Israel's military actions.\\n\\n3. Logical:\\nFinal Hypothesis: Israel's right to self-defense is logical but must be consistent with international legal standards, which include the protection of civilians.\\nReason: Legality and logic are intertwined, and Israel's actions are assessed against the backdrop of international humanitarian law.\\n\\n4. Ethical:\\nFinal Hypothesis: Ethical considerations involve evaluating the morality of both Israel's military strategies and the living conditions imposed on Palestinians.\\nReason: Ethical judgments must consider the intent, proportionality, and the overall humanitarian impact on civilian populations.\\n\\n5. Slippery Slope:\\nFinal Hypothesis: Accusations of genocide could lead to international legal consequences and further complicate peace efforts.\\nReason: The International Court of Justice's involvement and the international legal discourse could affect the resolution process and the conflict's status quo.\\n\\n6. Appeal to Authority:\\nFinal Hypothesis: International legal rulings and human rights assessments by authoritative bodies shape the discourse and potential resolutions.\\nReason: Decisions by institutions like the International Court of Justice or the UN Human Rights Council carry weight in legitimizing or contesting the actions of both parties.\\n\\n7. Appeal to Emotion:\\nFinal Hypothesis: Emotional narratives influence international public opinion and can drive policy decisions and interventions.\\nReason: The civilian suffering documented and disseminated through media affects perceptions and can lead to emotional responses from the global community.\\n\\nThis concludes our structured debate on the topic, incorporating aspects of comparison, cause and effect, logic, ethics, slippery slope, appeal to authority, and appeal to emotion in the context of the Israel-Hamas conflict and the issues surrounding Israel's right of defense and Palestinian accusations of genocide. The arguments have been constructed and refined through three rounds of discussion, each informed by research and analysis.\", response_metadata={'token_usage': {'completion_tokens': 513, 'prompt_tokens': 6354, 'total_tokens': 6867}, 'model_name': 'gpt-4-1106-preview', 'system_fingerprint': None, 'finish_reason': 'stop', 'logprobs': None}, name='Researcher', id='run-56a4f9a2-a85d-4ef2-9ecd-dc20617c39f8-0', usage_metadata={'input_tokens': 6354, 'output_tokens': 513, 'total_tokens': 6867})], 'sender': 'Researcher'}}\n",
            "----\n"
          ]
        }
      ]
    }
  ]
}